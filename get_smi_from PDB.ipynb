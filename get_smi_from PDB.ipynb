{
 "cells": [
  {
   "cell_type": "code",
   "execution_count": null,
   "metadata": {},
   "outputs": [],
   "source": [
    "## get ligand as chain L\n",
    "\n",
    "## this is for first rename some atoms that were\n",
    "## wrong parsed, and pdb format is not able to recognize them\n",
    "## basically just to give them some space\n",
    "\n",
    "import os\n",
    "\n",
    "pdbs = 'ligands'\n",
    "for pdb_file in os.listdir(pdbs):\n",
    "    with open(os.path.join(pdbs, pdb_file), 'r+') as f:\n",
    "        output = f.read()\n",
    "        modified_lines = []\n",
    "        for line in output.split(\"\\n\"):\n",
    "            if \"LIG\" in line and \"M\" in line:\n",
    "                line = line.replace(\"LIG M\", \"LIG L\",-1)\n",
    "                if \"SYSTNA\" in line:\n",
    "                    line = line.replace(\"SYSTNA\", \"SYST N\")\n",
    "                if \"SYSTBE\" in line:\n",
    "                    line = line.replace(\"SYSTBE\", \"SYST C\")\n",
    "                if \"SYSTAL\" in line:\n",
    "                    line = line.replace(\"SYSTAL\", \"SYST C\")\n",
    "                if \"SYSTCA\" in line:\n",
    "                    line = line.replace(\"SYSTCA\", \"SYST C\")\n",
    "                if \"SYSTCU\" in line:\n",
    "                    line = line.replace(\"SYSTCU\", \"SYST C\")\n",
    "                if \"SYST B\" in line:\n",
    "                    line = line.replace(\"SYST B\", \"SYST C\")\n",
    "                if \"SYSTCS\" in line:\n",
    "                     line = line.replace(\"SYSTCS\", \"SYST C\")\n",
    "                if \"SYSTCL\" in line:\n",
    "                    line = line.replace(\"SYSTCL\", \"SYST CL\")\n",
    "            modified_lines.append(line)\n",
    "        f.seek(0)  # move the file pointer to the beginning of the file\n",
    "        f.write(\"\\n\".join(modified_lines))  # write the modified lines back to the file\n",
    "        f.truncate()  # truncate any remaining content if the new content is shorter\n"
   ]
  },
  {
   "cell_type": "code",
   "execution_count": null,
   "metadata": {},
   "outputs": [],
   "source": [
    "import os\n",
    "from pymol import cmd\n",
    "\n",
    "\n",
    "## this is for extract ligand PLAS 5K ligand label is L\n",
    "## this was used here to extract ligands\n",
    "## it worked, but 2 hundred structures were not able\n",
    "## to be save it, since they were peptide origine\n",
    "## and they was not label as L\n",
    "\n",
    "# Create the output folder if it doesn't exist\n",
    "output_folder = 'ligands' \n",
    "if not os.path.exists(output_folder):\n",
    "    os.makedirs(output_folder)\n",
    "\n",
    "# Loop over all PDB files in the input folder and extract chain L\n",
    "input_folder = 'ligands' ## same output as input since those pdbs were already without target\n",
    "for pdb_file in os.listdir(input_folder):\n",
    "    # Skip non-PDB files\n",
    "    if not pdb_file.endswith('.pdb'):\n",
    "        continue\n",
    "    # Load the PDB file into PyMOL\n",
    "    cmd.load(os.path.join(input_folder, pdb_file), 'structure')\n",
    "    # Select and extract chain L\n",
    "    cmd.select('ligand', 'chain L')\n",
    "    cmd.save(os.path.join(output_folder, pdb_file), 'ligand')\n",
    "    # Delete the loaded structure to free up memory\n",
    "    cmd.delete('structure')\n"
   ]
  },
  {
   "cell_type": "code",
   "execution_count": null,
   "metadata": {},
   "outputs": [],
   "source": [
    "import os\n",
    "import pandas as pd\n",
    "import re\n",
    "import requests\n",
    "\n",
    "lig = pd.DataFrame()\n",
    "lig['Drug_ID'] = os.listdir('ligands')\n",
    "\n",
    "url = 'https://cactus.nci.nih.gov/cgi-bin/translate.tcl'\n",
    "\n",
    "files = os.listdir('ligands')\n",
    "smiles_list = []  # Create an empty list to store the SMILES strings\n",
    "\n",
    "for x in files:\n",
    "    with open(r\"ligands/\" + str(x), \"rb\") as file:\n",
    "        pdbfile = {'file': file}\n",
    "        data = {\n",
    "            \"smiles\": \"\",\n",
    "            \"format\": \"screen\",\n",
    "            \"astyle\": \"kekule\",\n",
    "            \"dim\": \"2D\"\n",
    "        }\n",
    "        r = requests.post(url, files=pdbfile, data=data)\n",
    "        tag = \"B\"\n",
    "        reg_str = \"<\" + tag + \">(.*?)</\" + tag + \">\"\n",
    "        res = re.findall(reg_str, r.text)\n",
    "        if res:  # Check if any SMILES string is found\n",
    "            smiles_list.append(res[0])  # Append the first SMILES string to the list\n",
    "        else:\n",
    "            smiles_list.append(\"\")  # If no SMILES string is found, append an empty string\n",
    "\n",
    "lig['Drug'] = smiles_list  # Assign the list of SMILES strings to the 'Drug' column\n",
    "\n",
    "# Print the resulting DataFrame\n",
    "lig"
   ]
  },
  {
   "cell_type": "code",
   "execution_count": 12,
   "metadata": {},
   "outputs": [],
   "source": [
    "import pandas as pd\n",
    "lig = pd.read_csv('plas5k_lig.tsv', sep='\\t', index_col=0)\n"
   ]
  },
  {
   "cell_type": "code",
   "execution_count": 13,
   "metadata": {},
   "outputs": [],
   "source": [
    "## drop empty lines \n",
    "import numpy as np\n",
    "lig['Drug'].replace('', np.nan, inplace=True)\n",
    "lig.dropna(subset=['Drug'], inplace=True)\n",
    "## add prefix\n",
    "lig['Drug_ID'] = 'lig_' + lig['Drug_ID'].astype(str)"
   ]
  },
  {
   "cell_type": "code",
   "execution_count": 14,
   "metadata": {},
   "outputs": [],
   "source": [
    "lig.to_csv('2plas5k_lig.tsv', sep='\\t')\n"
   ]
  },
  {
   "cell_type": "code",
   "execution_count": null,
   "metadata": {},
   "outputs": [],
   "source": [
    "## PREPARE Lig.TSV"
   ]
  }
 ],
 "metadata": {
  "kernelspec": {
   "display_name": "Python 3.10.6 64-bit",
   "language": "python",
   "name": "python3"
  },
  "language_info": {
   "codemirror_mode": {
    "name": "ipython",
    "version": 3
   },
   "file_extension": ".py",
   "mimetype": "text/x-python",
   "name": "python",
   "nbconvert_exporter": "python",
   "pygments_lexer": "ipython3",
   "version": "3.10.6"
  },
  "orig_nbformat": 4,
  "vscode": {
   "interpreter": {
    "hash": "916dbcbb3f70747c44a77c7bcd40155683ae19c65e1c03b4aa3499c5328201f1"
   }
  }
 },
 "nbformat": 4,
 "nbformat_minor": 2
}
