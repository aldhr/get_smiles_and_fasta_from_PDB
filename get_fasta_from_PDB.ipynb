{
 "cells": [
  {
   "cell_type": "code",
   "execution_count": null,
   "metadata": {},
   "outputs": [],
   "source": [
    "## this code is useful to get fasta from pdb files"
   ]
  },
  {
   "cell_type": "code",
   "execution_count": 1,
   "metadata": {},
   "outputs": [],
   "source": [
    "from Bio import SeqIO\n",
    "import pandas as pd\n",
    "import numpy as np\n",
    "import os\n",
    "\n",
    "## read previous file\n",
    "lig = pd.read_csv('plas5k_lig.tsv', sep='\\t', index_col=0)\n",
    "## drop empty lines \n",
    "lig['Drug'].replace('', np.nan, inplace=True)\n",
    "lig.dropna(subset=['Drug'], inplace=True)\n",
    "\n",
    "## add prefix\n",
    "prot = lig\n",
    "# prot\n",
    "## rename columns\n",
    "prot.columns = ['Target_ID', 'Target']\n",
    "prot = prot.drop('Target', axis=1)\n",
    "## get pdbs in a list\n",
    "prot_list = prot['Target_ID'].to_list() ## get pdbs in a list"
   ]
  },
  {
   "cell_type": "code",
   "execution_count": null,
   "metadata": {},
   "outputs": [],
   "source": [
    "## now lets use bypyhon to get fasta\n",
    "## use biopython to create a dataframe from PDB files\n",
    "## this requares pdb files stored in folder named \"All\"\n",
    "\n",
    "import warnings\n",
    "import pandas as pd\n",
    "from Bio import SeqIO\n",
    "\n",
    "warnings.filterwarnings(\"ignore\")\n",
    "\n",
    "records = []\n",
    "for prot in prot_list:\n",
    "    with open('all/' + str(prot), 'r') as pdb_file:\n",
    "        for record in SeqIO.parse(pdb_file, 'pdb-atom'):\n",
    "            pSeq = str(record.seq)\n",
    "            records.append(pSeq)\n",
    "\n",
    "# Create a DataFrame\n",
    "prot = pd.DataFrame(list(zip(prot_list, records)), columns=['Target_ID', 'Target'])\n",
    "# Remove extension pdb\n",
    "prot['Target_ID'].remove(\".pdb\", \"\", regex=True)"
   ]
  },
  {
   "cell_type": "code",
   "execution_count": null,
   "metadata": {},
   "outputs": [],
   "source": [
    "prot['Target_ID'] = prot['Target_ID'].str.replace(r'.pdb', '', regex=True).astype('str')"
   ]
  },
  {
   "cell_type": "code",
   "execution_count": null,
   "metadata": {},
   "outputs": [],
   "source": [
    "prot.to_csv('prot.tsv', sep='\\t')\n"
   ]
  },
  {
   "cell_type": "code",
   "execution_count": null,
   "metadata": {},
   "outputs": [],
   "source": [
    "## if haven't download pdbs, another way to do it, \n",
    "## is to use RCSB web page, I have optimised with request yet\n",
    "## but an initial code that might work as manual proccess\n",
    "## is the following.\n",
    "\n",
    "## this will break in chunks pdb names to get from RCSB\n",
    "## a single fasta file\n",
    "\n",
    "## CODE\n",
    "# import pandas as pd\n",
    "# import os\n",
    "\n",
    "# ## read previous file\n",
    "# lig = pd.read_csv('plas5k_lig.tsv', sep='\\t', index_col=0)\n",
    "# ## drop empty lines \n",
    "# import numpy as np\n",
    "# lig['Drug'].replace('', np.nan, inplace=True)\n",
    "# lig.dropna(subset=['Drug'], inplace=True)\n",
    "\n",
    "# ## add prefix\n",
    "# prot = lig\n",
    "# # prot\n",
    "# ## rename columns\n",
    "# prot.columns = ['Target_ID', 'Target']\n",
    "# prot = prot.drop('Target', axis=1)\n",
    "# ## remove extension pdb name\n",
    "# prots = prot['Target_ID'].to_list() ## get pdbs in a list\n",
    "\n",
    "# targets = [] ## here we would have a list os thing to be used \n",
    "# for filename in prots:\n",
    "#     tempTuple = os.path.splitext(filename)\n",
    "#     filename = tempTuple[0]\n",
    "#     targets.append(filename)\n",
    "    \n",
    "# ## from this point I'll enter the list in RCSB database\n",
    "# ## and get a fasta file: \n",
    "\n",
    "# ## however, list is to long to be used\n",
    "# ## split it in chunks size n\n",
    "\n",
    "# start = 0\n",
    "# end = len(targets)\n",
    "# step = 1000\n",
    "# for i in range(start, end, step):\n",
    "#     x = i\n",
    "#     print(*targets[x:x+step], sep = \" \")\n",
    "\n",
    "# ## those 5 chuncks were proccessed at: \n",
    "# ## https://www.rcsb.org/downloads/fasta\n",
    "# ## and final resultes were concatenated in bash\n",
    "# ## using cat *fasta > all.fasta"
   ]
  }
 ],
 "metadata": {
  "kernelspec": {
   "display_name": "Python 3",
   "language": "python",
   "name": "python3"
  },
  "language_info": {
   "codemirror_mode": {
    "name": "ipython",
    "version": 3
   },
   "file_extension": ".py",
   "mimetype": "text/x-python",
   "name": "python",
   "nbconvert_exporter": "python",
   "pygments_lexer": "ipython3",
   "version": "3.10.6"
  },
  "orig_nbformat": 4
 },
 "nbformat": 4,
 "nbformat_minor": 2
}
